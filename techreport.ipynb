{
 "cells": [
  {
   "cell_type": "markdown",
   "source": "# Technical Report and Data Analysis",
   "metadata": {
    "tags": [],
    "cell_id": "00000-de455d56-0532-4bee-9cce-ee8f24b2530e",
    "deepnote_cell_type": "markdown"
   }
  },
  {
   "cell_type": "markdown",
   "source": "#### Delete this Cell later\n1. Introduction: Explain why you chose the topic, the questions you are interested in studying. List team members and a description of how each  contributed to the project.\n2.   Description of data: Describe the dataset, how was it collect, how you accessed it, references/credit to source. \n3.   Analysis of the data:Provide a detailed, well-organized description of data quality, including the features, any data that should be cleaned or pre-processed before you EDA.\n4.   Exploratory Data Analysis: Provide a detailed, well-organized description of your findings, including textual description, graphs, and code. Your focus should be on both the results and the process. Include, as reasonable and relevant, approaches that didn’t work, challenges, the data cleaning process, etc.\n5.   Potential Data Science: Based on your data analysis and findings. Describe any potential ideas if you were to pursue a data science or machine learning project using this dataset. If you don’t find any potential, explain your rationale.\n6.   Conclusion: Discuss limitations and future directions, lessons learned, maybe things you did not predict to find out or things you learned as you performed the analysis.",
   "metadata": {
    "tags": [],
    "cell_id": "00000-079f28d4-ddb5-4e65-ac17-8aac0e166d15",
    "deepnote_cell_type": "markdown"
   }
  },
  {
   "cell_type": "markdown",
   "source": "# Introduction:\n\nThis report is based on the dataset of the Google Play Store user trends which includes many data features that can potentialy be further analyzed in this report. We chose this topic because we were interested in what apps users download and what different data is attached to them. In this day and age, many are attached to their devices making it very vital to know what trends lie within one of the biggest appstores in the world. \n\nIn this technical report of the Google Play Store User Trends dataset, we will be asking the questions:\n\n**Data Analysis Questions for dataset**\n   1. How does the number of installs change depending on the payment type of the app?\n   2. How does the content rating affect the number of installs of the app? Would there be more installs for apps rated \"Everyone\" since it is open for anyone to download?\n   3. Do certain categories have more paid apps vs free apps, such as education having lots of paid apps?\n   4. Does the app category have any correlation with the app size?\n   5. Does payment type correlate with good ratings? Are paid apps more likely to have good ratings then free apps?\n\n#### List of Members:\n\n**Azan Sikder:**\n- Wrote the introduction of both the technical report and blog post report\n- Worked with Olly to deliver the Analysis of the data and the Exploratory Data Analysis of the technical report\n- Wrote the Potential Data Science section of the technical report\n- Worked with Olly to deliver the Dicussion section of the blog post report\n- Oversaw, discussed and revised teammates work to help deliver both reports. \n**Olly Love:**\n- Wrote the conclusion of both the technical report and blog post report\n- Worked with Azan to deliver the Analysis of the data and the Exploratory Data Analysis of the technical report\n- Wrote the Description of the Data on the technical report\n- Worked with Azan to deliver the Dicussion section of the blog post report\n- Oversaw, discussed and revised teammates work to help deliver both reports. \n\n**NOTE:** Our analysis initialy had three members but unfortunately had been reduced to two members as the other has dropped the course. ",
   "metadata": {
    "tags": [],
    "cell_id": "00001-a926eb79-cc43-443a-b1e5-450127c05fd8",
    "deepnote_cell_type": "markdown"
   }
  },
  {
   "cell_type": "markdown",
   "source": "# Description of Data:\nOur chosen dataset is titled Google Play Store Apps and can be accessed here: https://www.kaggle.com/lava18/google-play-store-apps.\nThis dataset gives information about the many apps available for download in the Google Play Store. Webscaping was used to collect the datasets information. Using list comprehension, map and filter functions, numpy, and pandas databases, we sifted through the data and put seperate attributes into different lists for easier access, to help analyze it.\n# Description of Each Attribute\n- App: Application name\n- Category: Category the app belongs to\n- Rating: Overall user rating of the app\n- Reviews: Number of user reviews for the app\n- Size: Size of the app in megabytes\n- Installs: Number of user downloads/installs for the app\n- Type: Paid or Free\n- Price: Price of the app\n- Content Rating: Age group the app is targeted at - Children / Mature 21+ / Adult\n- Genres: An app can belong to multiple genres (apart from its main category). For eg, a musical family game will belong to \n",
   "metadata": {
    "tags": [],
    "cell_id": "00002-10b19a61-862e-4440-9564-b239b96fe164",
    "deepnote_cell_type": "markdown"
   }
  },
  {
   "cell_type": "markdown",
   "source": "# Loading the Data",
   "metadata": {
    "tags": [],
    "cell_id": "00004-97ef23e7-b86f-4553-8208-8853827c1fd6",
    "deepnote_cell_type": "markdown"
   }
  },
  {
   "cell_type": "code",
   "metadata": {
    "tags": [],
    "cell_id": "00005-c21df42b-3ece-4b5e-a97c-368ec1759c82",
    "deepnote_to_be_reexecuted": false,
    "source_hash": "44b9672c",
    "execution_start": 1638837698638,
    "execution_millis": 43,
    "deepnote_cell_type": "code"
   },
   "source": "# Importing used libraries\nimport csv\nimport re\nfrom functools import reduce\nimport numpy as np\nimport pandas as pd\nimport matplotlib.pyplot as plt\nimport seaborn as sns\n\n# Load in dataset\ndf = pd.read_csv(\"googleplaystore.csv\")",
   "outputs": [],
   "execution_count": 147
  },
  {
   "cell_type": "markdown",
   "source": "# Analysis Of The Data:",
   "metadata": {
    "tags": [],
    "cell_id": "00003-d908580c-f132-436c-9b5c-a81f021b7bfe",
    "deepnote_cell_type": "markdown"
   }
  },
  {
   "cell_type": "markdown",
   "source": "### Data Quality",
   "metadata": {
    "tags": [],
    "cell_id": "00007-717cc25b-a3df-417a-ab2c-a2c67656a5cf",
    "deepnote_cell_type": "markdown"
   }
  },
  {
   "cell_type": "markdown",
   "source": "",
   "metadata": {
    "tags": [],
    "cell_id": "00008-dc81b14a-1027-449b-800f-b130d1695123",
    "deepnote_cell_type": "markdown"
   }
  },
  {
   "cell_type": "markdown",
   "source": "### Cleaning the Data",
   "metadata": {
    "tags": [],
    "cell_id": "00007-6dd28ef5-2336-4fc5-8c9f-71f3226ff2e8",
    "deepnote_cell_type": "markdown"
   }
  },
  {
   "cell_type": "code",
   "metadata": {
    "tags": [],
    "cell_id": "00005-f38747c4-b5e1-43e7-9d1e-48fd16707c33",
    "deepnote_to_be_reexecuted": false,
    "source_hash": "10ebba18",
    "execution_start": 1638837701736,
    "execution_millis": 119,
    "deepnote_cell_type": "code"
   },
   "source": "# Convert installs column into numbers to get approximate amount of installs\n# to then do calculations on\n\n# Get rid of + sign\ndf['Installs'] = df['Installs'].apply(lambda x: re.sub(r'\\+', '', x))\n# Remove comma\ndf['Installs'] = df['Installs'].apply(lambda x: re.sub(r',', '', x))\n# Convert to int\ndf['Installs'] = df[\"Installs\"].apply(lambda x: int(x))\ndf.head(5)",
   "outputs": [
    {
     "output_type": "execute_result",
     "execution_count": 148,
     "data": {
      "application/vnd.deepnote.dataframe.v2+json": {
       "row_count": 5,
       "column_count": 13,
       "columns": [
        {
         "name": "App",
         "dtype": "object",
         "stats": {
          "unique_count": 5,
          "nan_count": 0,
          "categories": [
           {
            "name": "Photo Editor & Candy Camera & Grid & ScrapBook",
            "count": 1
           },
           {
            "name": "Coloring book moana",
            "count": 1
           },
           {
            "name": "3 others",
            "count": 3
           }
          ]
         }
        },
        {
         "name": "Category",
         "dtype": "object",
         "stats": {
          "unique_count": 1,
          "nan_count": 0,
          "categories": [
           {
            "name": "ART_AND_DESIGN",
            "count": 5
           }
          ]
         }
        },
        {
         "name": "Rating",
         "dtype": "float64",
         "stats": {
          "unique_count": 5,
          "nan_count": 0,
          "min": "3.9",
          "max": "4.7",
          "histogram": [
           {
            "bin_start": 3.9,
            "bin_end": 3.98,
            "count": 1
           },
           {
            "bin_start": 3.98,
            "bin_end": 4.06,
            "count": 0
           },
           {
            "bin_start": 4.06,
            "bin_end": 4.14,
            "count": 1
           },
           {
            "bin_start": 4.14,
            "bin_end": 4.22,
            "count": 0
           },
           {
            "bin_start": 4.22,
            "bin_end": 4.3,
            "count": 0
           },
           {
            "bin_start": 4.3,
            "bin_end": 4.38,
            "count": 1
           },
           {
            "bin_start": 4.38,
            "bin_end": 4.46,
            "count": 0
           },
           {
            "bin_start": 4.46,
            "bin_end": 4.54,
            "count": 1
           },
           {
            "bin_start": 4.54,
            "bin_end": 4.62,
            "count": 0
           },
           {
            "bin_start": 4.62,
            "bin_end": 4.7,
            "count": 1
           }
          ]
         }
        },
        {
         "name": "Reviews",
         "dtype": "int64",
         "stats": {
          "unique_count": 4,
          "nan_count": 0,
          "min": "159",
          "max": "215644",
          "histogram": [
           {
            "bin_start": 159,
            "bin_end": 21707.5,
            "count": 3
           },
           {
            "bin_start": 21707.5,
            "bin_end": 43256,
            "count": 0
           },
           {
            "bin_start": 43256,
            "bin_end": 64804.5,
            "count": 0
           },
           {
            "bin_start": 64804.5,
            "bin_end": 86353,
            "count": 0
           },
           {
            "bin_start": 86353,
            "bin_end": 107901.5,
            "count": 1
           },
           {
            "bin_start": 107901.5,
            "bin_end": 129450,
            "count": 0
           },
           {
            "bin_start": 129450,
            "bin_end": 150998.5,
            "count": 0
           },
           {
            "bin_start": 150998.5,
            "bin_end": 172547,
            "count": 0
           },
           {
            "bin_start": 172547,
            "bin_end": 194095.5,
            "count": 0
           },
           {
            "bin_start": 194095.5,
            "bin_end": 215644,
            "count": 1
           }
          ]
         }
        },
        {
         "name": "Size",
         "dtype": "object",
         "stats": {
          "unique_count": 5,
          "nan_count": 0,
          "categories": [
           {
            "name": "19M",
            "count": 1
           },
           {
            "name": "14M",
            "count": 1
           },
           {
            "name": "3 others",
            "count": 3
           }
          ]
         }
        },
        {
         "name": "Installs",
         "dtype": "int64",
         "stats": {
          "unique_count": 5,
          "nan_count": 0,
          "min": "10000",
          "max": "50000000",
          "histogram": [
           {
            "bin_start": 10000,
            "bin_end": 5009000,
            "count": 4
           },
           {
            "bin_start": 5009000,
            "bin_end": 10008000,
            "count": 0
           },
           {
            "bin_start": 10008000,
            "bin_end": 15007000,
            "count": 0
           },
           {
            "bin_start": 15007000,
            "bin_end": 20006000,
            "count": 0
           },
           {
            "bin_start": 20006000,
            "bin_end": 25005000,
            "count": 0
           },
           {
            "bin_start": 25005000,
            "bin_end": 30004000,
            "count": 0
           },
           {
            "bin_start": 30004000,
            "bin_end": 35003000,
            "count": 0
           },
           {
            "bin_start": 35003000,
            "bin_end": 40002000,
            "count": 0
           },
           {
            "bin_start": 40002000,
            "bin_end": 45001000,
            "count": 0
           },
           {
            "bin_start": 45001000,
            "bin_end": 50000000,
            "count": 1
           }
          ]
         }
        },
        {
         "name": "Type",
         "dtype": "object",
         "stats": {
          "unique_count": 1,
          "nan_count": 0,
          "categories": [
           {
            "name": "Free",
            "count": 5
           }
          ]
         }
        },
        {
         "name": "Price",
         "dtype": "object",
         "stats": {
          "unique_count": 1,
          "nan_count": 0,
          "categories": [
           {
            "name": "0",
            "count": 5
           }
          ]
         }
        },
        {
         "name": "Content Rating",
         "dtype": "object",
         "stats": {
          "unique_count": 2,
          "nan_count": 0,
          "categories": [
           {
            "name": "Everyone",
            "count": 4
           },
           {
            "name": "Teen",
            "count": 1
           }
          ]
         }
        },
        {
         "name": "Genres",
         "dtype": "object",
         "stats": {
          "unique_count": 3,
          "nan_count": 0,
          "categories": [
           {
            "name": "Art & Design",
            "count": 3
           },
           {
            "name": "Art & Design;Pretend Play",
            "count": 1
           },
           {
            "name": "Art & Design;Creativity",
            "count": 1
           }
          ]
         }
        },
        {
         "name": "Last Updated",
         "dtype": "object",
         "stats": {
          "unique_count": 5,
          "nan_count": 0,
          "categories": [
           {
            "name": "07-Jan-18",
            "count": 1
           },
           {
            "name": "15-Jan-18",
            "count": 1
           },
           {
            "name": "3 others",
            "count": 3
           }
          ]
         }
        },
        {
         "name": "Current Ver",
         "dtype": "object",
         "stats": {
          "unique_count": 5,
          "nan_count": 0,
          "categories": [
           {
            "name": "1.0.0",
            "count": 1
           },
           {
            "name": "2.0.0",
            "count": 1
           },
           {
            "name": "3 others",
            "count": 3
           }
          ]
         }
        },
        {
         "name": "Android Ver",
         "dtype": "object",
         "stats": {
          "unique_count": 3,
          "nan_count": 0,
          "categories": [
           {
            "name": "4.0.3 and up",
            "count": 3
           },
           {
            "name": "4.2 and up",
            "count": 1
           },
           {
            "name": "4.4 and up",
            "count": 1
           }
          ]
         }
        },
        {
         "name": "_deepnote_index_column",
         "dtype": "int64"
        }
       ],
       "rows_top": [
        {
         "App": "Photo Editor & Candy Camera & Grid & ScrapBook",
         "Category": "ART_AND_DESIGN",
         "Rating": 4.1,
         "Reviews": 159,
         "Size": "19M",
         "Installs": 10000,
         "Type": "Free",
         "Price": "0",
         "Content Rating": "Everyone",
         "Genres": "Art & Design",
         "Last Updated": "07-Jan-18",
         "Current Ver": "1.0.0",
         "Android Ver": "4.0.3 and up",
         "_deepnote_index_column": 0
        },
        {
         "App": "Coloring book moana",
         "Category": "ART_AND_DESIGN",
         "Rating": 3.9,
         "Reviews": 967,
         "Size": "14M",
         "Installs": 500000,
         "Type": "Free",
         "Price": "0",
         "Content Rating": "Everyone",
         "Genres": "Art & Design;Pretend Play",
         "Last Updated": "15-Jan-18",
         "Current Ver": "2.0.0",
         "Android Ver": "4.0.3 and up",
         "_deepnote_index_column": 1
        },
        {
         "App": "U Launcher Lite – FREE Live Cool Themes, Hide Apps",
         "Category": "ART_AND_DESIGN",
         "Rating": 4.7,
         "Reviews": 87510,
         "Size": "8.7M",
         "Installs": 5000000,
         "Type": "Free",
         "Price": "0",
         "Content Rating": "Everyone",
         "Genres": "Art & Design",
         "Last Updated": "01-Aug-18",
         "Current Ver": "1.2.4",
         "Android Ver": "4.0.3 and up",
         "_deepnote_index_column": 2
        },
        {
         "App": "Sketch - Draw & Paint",
         "Category": "ART_AND_DESIGN",
         "Rating": 4.5,
         "Reviews": 215644,
         "Size": "25M",
         "Installs": 50000000,
         "Type": "Free",
         "Price": "0",
         "Content Rating": "Teen",
         "Genres": "Art & Design",
         "Last Updated": "08-Jun-18",
         "Current Ver": "Varies with device",
         "Android Ver": "4.2 and up",
         "_deepnote_index_column": 3
        },
        {
         "App": "Pixel Draw - Number Art Coloring Book",
         "Category": "ART_AND_DESIGN",
         "Rating": 4.3,
         "Reviews": 967,
         "Size": "2.8M",
         "Installs": 100000,
         "Type": "Free",
         "Price": "0",
         "Content Rating": "Everyone",
         "Genres": "Art & Design;Creativity",
         "Last Updated": "20-Jun-18",
         "Current Ver": "1.1",
         "Android Ver": "4.4 and up",
         "_deepnote_index_column": 4
        }
       ],
       "rows_bottom": null
      },
      "text/plain": "                                                 App        Category  Rating  \\\n0     Photo Editor & Candy Camera & Grid & ScrapBook  ART_AND_DESIGN     4.1   \n1                                Coloring book moana  ART_AND_DESIGN     3.9   \n2  U Launcher Lite – FREE Live Cool Themes, Hide ...  ART_AND_DESIGN     4.7   \n3                              Sketch - Draw & Paint  ART_AND_DESIGN     4.5   \n4              Pixel Draw - Number Art Coloring Book  ART_AND_DESIGN     4.3   \n\n   Reviews  Size  Installs  Type Price Content Rating  \\\n0      159   19M     10000  Free     0       Everyone   \n1      967   14M    500000  Free     0       Everyone   \n2    87510  8.7M   5000000  Free     0       Everyone   \n3   215644   25M  50000000  Free     0           Teen   \n4      967  2.8M    100000  Free     0       Everyone   \n\n                      Genres Last Updated         Current Ver   Android Ver  \n0               Art & Design    07-Jan-18               1.0.0  4.0.3 and up  \n1  Art & Design;Pretend Play    15-Jan-18               2.0.0  4.0.3 and up  \n2               Art & Design    01-Aug-18               1.2.4  4.0.3 and up  \n3               Art & Design    08-Jun-18  Varies with device    4.2 and up  \n4    Art & Design;Creativity    20-Jun-18                 1.1    4.4 and up  ",
      "text/html": "<div>\n<style scoped>\n    .dataframe tbody tr th:only-of-type {\n        vertical-align: middle;\n    }\n\n    .dataframe tbody tr th {\n        vertical-align: top;\n    }\n\n    .dataframe thead th {\n        text-align: right;\n    }\n</style>\n<table border=\"1\" class=\"dataframe\">\n  <thead>\n    <tr style=\"text-align: right;\">\n      <th></th>\n      <th>App</th>\n      <th>Category</th>\n      <th>Rating</th>\n      <th>Reviews</th>\n      <th>Size</th>\n      <th>Installs</th>\n      <th>Type</th>\n      <th>Price</th>\n      <th>Content Rating</th>\n      <th>Genres</th>\n      <th>Last Updated</th>\n      <th>Current Ver</th>\n      <th>Android Ver</th>\n    </tr>\n  </thead>\n  <tbody>\n    <tr>\n      <th>0</th>\n      <td>Photo Editor &amp; Candy Camera &amp; Grid &amp; ScrapBook</td>\n      <td>ART_AND_DESIGN</td>\n      <td>4.1</td>\n      <td>159</td>\n      <td>19M</td>\n      <td>10000</td>\n      <td>Free</td>\n      <td>0</td>\n      <td>Everyone</td>\n      <td>Art &amp; Design</td>\n      <td>07-Jan-18</td>\n      <td>1.0.0</td>\n      <td>4.0.3 and up</td>\n    </tr>\n    <tr>\n      <th>1</th>\n      <td>Coloring book moana</td>\n      <td>ART_AND_DESIGN</td>\n      <td>3.9</td>\n      <td>967</td>\n      <td>14M</td>\n      <td>500000</td>\n      <td>Free</td>\n      <td>0</td>\n      <td>Everyone</td>\n      <td>Art &amp; Design;Pretend Play</td>\n      <td>15-Jan-18</td>\n      <td>2.0.0</td>\n      <td>4.0.3 and up</td>\n    </tr>\n    <tr>\n      <th>2</th>\n      <td>U Launcher Lite – FREE Live Cool Themes, Hide ...</td>\n      <td>ART_AND_DESIGN</td>\n      <td>4.7</td>\n      <td>87510</td>\n      <td>8.7M</td>\n      <td>5000000</td>\n      <td>Free</td>\n      <td>0</td>\n      <td>Everyone</td>\n      <td>Art &amp; Design</td>\n      <td>01-Aug-18</td>\n      <td>1.2.4</td>\n      <td>4.0.3 and up</td>\n    </tr>\n    <tr>\n      <th>3</th>\n      <td>Sketch - Draw &amp; Paint</td>\n      <td>ART_AND_DESIGN</td>\n      <td>4.5</td>\n      <td>215644</td>\n      <td>25M</td>\n      <td>50000000</td>\n      <td>Free</td>\n      <td>0</td>\n      <td>Teen</td>\n      <td>Art &amp; Design</td>\n      <td>08-Jun-18</td>\n      <td>Varies with device</td>\n      <td>4.2 and up</td>\n    </tr>\n    <tr>\n      <th>4</th>\n      <td>Pixel Draw - Number Art Coloring Book</td>\n      <td>ART_AND_DESIGN</td>\n      <td>4.3</td>\n      <td>967</td>\n      <td>2.8M</td>\n      <td>100000</td>\n      <td>Free</td>\n      <td>0</td>\n      <td>Everyone</td>\n      <td>Art &amp; Design;Creativity</td>\n      <td>20-Jun-18</td>\n      <td>1.1</td>\n      <td>4.4 and up</td>\n    </tr>\n  </tbody>\n</table>\n</div>"
     },
     "metadata": {}
    }
   ],
   "execution_count": 148
  },
  {
   "cell_type": "markdown",
   "source": "# Exploratory Data Analysis:\nQuestions about our data we want answered.\n- How does the number of installs change depending on the payment type of the app? - azan do this because tutorial work\n- How does the content rating affect the number of installs of the app? Would there be more installs for apps rated \"Everyone\" since it is open for anyone to download? - olly\n- Do certain categories have more paid apps vs free apps, such as education having lots of paid apps? - olly\n- Does the app category have any correlation with the app size? - olly\n- Does payment type correlate with good ratings? Are paid apps more likely to have good ratings then free apps? - azan",
   "metadata": {
    "tags": [],
    "cell_id": "00004-be392a9b-5000-4c5a-837c-35842a1b0889",
    "deepnote_cell_type": "markdown"
   }
  },
  {
   "cell_type": "markdown",
   "source": "### How does the number of installs change depending on the payment type of the app?",
   "metadata": {
    "tags": [],
    "cell_id": "00012-004e9d20-0bc9-44c7-aa17-d01bc772e383",
    "deepnote_cell_type": "markdown"
   }
  },
  {
   "cell_type": "code",
   "source": "#azan\nplt.figure(figsize = (17, 9))\nplt.subplot(2, 1, (1))\nc = sns.countplot(x = 'Installs', hue = df['Type'], data = df, palette = ['#3232CD','#A62A2A'])\nleg = plt.legend(('Free', 'Paid'), loc = 'upper right', bbox_to_anchor = (1.0, 1.0), title = \"$\\\\bf{Class}$\")\nleg.get_frame().set_edgecolor('k')\nplt.title('Paid or Free per Install range', weight = 'bold', size = 14)\nplt.xlabel('Installs', weight = 'bold', size = 10)\nplt.ylabel('Number of Types per Installs', weight = 'bold', size = 10)\nplt.tight_layout()",
   "metadata": {
    "tags": [],
    "cell_id": "00013-c67b1ba5-1376-4891-b9f1-b308d61434e9",
    "deepnote_to_be_reexecuted": false,
    "source_hash": "95056200",
    "execution_start": 1638837704404,
    "execution_millis": 652,
    "deepnote_output_heights": [
     265.5333251953125,
     21.199996948242188,
     21.199996948242188
    ],
    "deepnote_cell_type": "code"
   },
   "outputs": [
    {
     "data": {
      "text/plain": "<Figure size 1224x648 with 1 Axes>",
      "image/png": "[encoded data removed]"
     },
     "metadata": {
      "needs_background": "light",
      "image/png": {
       "width": 1211,
       "height": 346
      }
     },
     "output_type": "display_data"
    }
   ],
   "execution_count": 149
  },
  {
   "cell_type": "code",
   "source": "#Create table to display number of installs per type. Sum all installs to get a rough estimate\npvf_installs = df.groupby('Type')['Installs'].sum().reset_index()\n#Begin constructing pie chart\n\n#labels\nlabels =df['Type'].value_counts(sort = True).index\n#size\nsizes = df['Type'].value_counts(sort = True)\ncolors = [\"green\",\"red\"]\nexplode = (0.0,0)  \n \n# Plot\nplt.pie(sizes, explode=explode, labels=labels, colors=colors,autopct='%1.1f%%', startangle=360,)\n\nplt.title('Percent of Free Apps',size = 20)\ndisplay(pvf_installs)\nplt.show()",
   "metadata": {
    "tags": [],
    "cell_id": "00014-40fdc84f-da75-40bd-b9d1-c84a70d0e6ed",
    "deepnote_to_be_reexecuted": false,
    "source_hash": "33d63329",
    "execution_start": 1638837707957,
    "execution_millis": 157,
    "deepnote_output_heights": [
     254,
     254
    ],
    "deepnote_cell_type": "code"
   },
   "outputs": [
    {
     "data": {
      "application/vnd.deepnote.dataframe.v2+json": {
       "row_count": 2,
       "column_count": 2,
       "columns": [
        {
         "name": "Type",
         "dtype": "object",
         "stats": {
          "unique_count": 2,
          "nan_count": 0,
          "categories": [
           {
            "name": "Free",
            "count": 1
           },
           {
            "name": "Paid",
            "count": 1
           }
          ]
         }
        },
        {
         "name": "Installs",
         "dtype": "int64",
         "stats": {
          "unique_count": 2,
          "nan_count": 0,
          "min": "72956081",
          "max": "167560477406",
          "histogram": [
           {
            "bin_start": 72956081,
            "bin_end": 16821708213.5,
            "count": 1
           },
           {
            "bin_start": 16821708213.5,
            "bin_end": 33570460346,
            "count": 0
           },
           {
            "bin_start": 33570460346,
            "bin_end": 50319212478.5,
            "count": 0
           },
           {
            "bin_start": 50319212478.5,
            "bin_end": 67067964611,
            "count": 0
           },
           {
            "bin_start": 67067964611,
            "bin_end": 83816716743.5,
            "count": 0
           },
           {
            "bin_start": 83816716743.5,
            "bin_end": 100565468876,
            "count": 0
           },
           {
            "bin_start": 100565468876,
            "bin_end": 117314221008.5,
            "count": 0
           },
           {
            "bin_start": 117314221008.5,
            "bin_end": 134062973141,
            "count": 0
           },
           {
            "bin_start": 134062973141,
            "bin_end": 150811725273.5,
            "count": 0
           },
           {
            "bin_start": 150811725273.5,
            "bin_end": 167560477406,
            "count": 1
           }
          ]
         }
        },
        {
         "name": "_deepnote_index_column",
         "dtype": "int64"
        }
       ],
       "rows_top": [
        {
         "Type": "Free",
         "Installs": 167560477406,
         "_deepnote_index_column": 0
        },
        {
         "Type": "Paid",
         "Installs": 72956081,
         "_deepnote_index_column": 1
        }
       ],
       "rows_bottom": null
      },
      "text/plain": "   Type      Installs\n0  Free  167560477406\n1  Paid      72956081",
      "text/html": "<div>\n<style scoped>\n    .dataframe tbody tr th:only-of-type {\n        vertical-align: middle;\n    }\n\n    .dataframe tbody tr th {\n        vertical-align: top;\n    }\n\n    .dataframe thead th {\n        text-align: right;\n    }\n</style>\n<table border=\"1\" class=\"dataframe\">\n  <thead>\n    <tr style=\"text-align: right;\">\n      <th></th>\n      <th>Type</th>\n      <th>Installs</th>\n    </tr>\n  </thead>\n  <tbody>\n    <tr>\n      <th>0</th>\n      <td>Free</td>\n      <td>167560477406</td>\n    </tr>\n    <tr>\n      <th>1</th>\n      <td>Paid</td>\n      <td>72956081</td>\n    </tr>\n  </tbody>\n</table>\n</div>"
     },
     "metadata": {},
     "output_type": "display_data"
    },
    {
     "data": {
      "text/plain": "<Figure size 432x288 with 1 Axes>",
      "image/png": "[encoded data removed]"
     },
     "metadata": {
      "image/png": {
       "width": 242,
       "height": 252
      }
     },
     "output_type": "display_data"
    }
   ],
   "execution_count": 150
  },
  {
   "cell_type": "markdown",
   "source": "### How does the content rating affect the number of installs of the app? Would there be more installs for apps rated \"Everyone\" since it is open for anyone to download?",
   "metadata": {
    "tags": [],
    "cell_id": "00012-dd0efc6c-b86d-49f3-b1ef-27e1ca00c662",
    "deepnote_cell_type": "markdown"
   }
  },
  {
   "cell_type": "code",
   "metadata": {
    "tags": [],
    "cell_id": "00006-7b4738f8-015c-4f2a-85f8-07b36cd11ba0",
    "deepnote_to_be_reexecuted": false,
    "source_hash": "697866a2",
    "execution_start": 1638837710975,
    "execution_millis": 417,
    "deepnote_output_heights": [
     null,
     459
    ],
    "deepnote_cell_type": "code"
   },
   "source": "content_rating_installs = df[['Content Rating', 'Installs']].groupby(['Content Rating']).sum().reset_index()\ncontent_rating_installs.plot(title=\"Installs per Content Rating\", kind='bar', figsize=(12,6), x=\"Content Rating\")\ncontent_rating_installs",
   "outputs": [
    {
     "output_type": "execute_result",
     "execution_count": 151,
     "data": {
      "application/vnd.deepnote.dataframe.v2+json": {
       "row_count": 6,
       "column_count": 2,
       "columns": [
        {
         "name": "Content Rating",
         "dtype": "object",
         "stats": {
          "unique_count": 6,
          "nan_count": 0,
          "categories": [
           {
            "name": "Adults only 18+",
            "count": 1
           },
           {
            "name": "Everyone",
            "count": 1
           },
           {
            "name": "4 others",
            "count": 4
           }
          ]
         }
        },
        {
         "name": "Installs",
         "dtype": "int64",
         "stats": {
          "unique_count": 6,
          "nan_count": 0,
          "min": "50500",
          "max": "114156659621",
          "histogram": [
           {
            "bin_start": 50500,
            "bin_end": 11415711412.1,
            "count": 3
           },
           {
            "bin_start": 11415711412.1,
            "bin_end": 22831372324.2,
            "count": 1
           },
           {
            "bin_start": 22831372324.2,
            "bin_end": 34247033236.300003,
            "count": 0
           },
           {
            "bin_start": 34247033236.300003,
            "bin_end": 45662694148.4,
            "count": 1
           },
           {
            "bin_start": 45662694148.4,
            "bin_end": 57078355060.5,
            "count": 0
           },
           {
            "bin_start": 57078355060.5,
            "bin_end": 68494015972.600006,
            "count": 0
           },
           {
            "bin_start": 68494015972.600006,
            "bin_end": 79909676884.7,
            "count": 0
           },
           {
            "bin_start": 79909676884.7,
            "bin_end": 91325337796.8,
            "count": 0
           },
           {
            "bin_start": 91325337796.8,
            "bin_end": 102740998708.90001,
            "count": 0
           },
           {
            "bin_start": 102740998708.90001,
            "bin_end": 114156659621,
            "count": 1
           }
          ]
         }
        },
        {
         "name": "_deepnote_index_column",
         "dtype": "int64"
        }
       ],
       "rows_top": [
        {
         "Content Rating": "Adults only 18+",
         "Installs": 2000000,
         "_deepnote_index_column": 0
        },
        {
         "Content Rating": "Everyone",
         "Installs": 114156659621,
         "_deepnote_index_column": 1
        },
        {
         "Content Rating": "Everyone 10+",
         "Installs": 13233881795,
         "_deepnote_index_column": 2
        },
        {
         "Content Rating": "Mature 17+",
         "Installs": 5524491178,
         "_deepnote_index_column": 3
        },
        {
         "Content Rating": "Teen",
         "Installs": 34716350393,
         "_deepnote_index_column": 4
        },
        {
         "Content Rating": "Unrated",
         "Installs": 50500,
         "_deepnote_index_column": 5
        }
       ],
       "rows_bottom": null
      },
      "text/plain": "    Content Rating      Installs\n0  Adults only 18+       2000000\n1         Everyone  114156659621\n2     Everyone 10+   13233881795\n3       Mature 17+    5524491178\n4             Teen   34716350393\n5          Unrated         50500",
      "text/html": "<div>\n<style scoped>\n    .dataframe tbody tr th:only-of-type {\n        vertical-align: middle;\n    }\n\n    .dataframe tbody tr th {\n        vertical-align: top;\n    }\n\n    .dataframe thead th {\n        text-align: right;\n    }\n</style>\n<table border=\"1\" class=\"dataframe\">\n  <thead>\n    <tr style=\"text-align: right;\">\n      <th></th>\n      <th>Content Rating</th>\n      <th>Installs</th>\n    </tr>\n  </thead>\n  <tbody>\n    <tr>\n      <th>0</th>\n      <td>Adults only 18+</td>\n      <td>2000000</td>\n    </tr>\n    <tr>\n      <th>1</th>\n      <td>Everyone</td>\n      <td>114156659621</td>\n    </tr>\n    <tr>\n      <th>2</th>\n      <td>Everyone 10+</td>\n      <td>13233881795</td>\n    </tr>\n    <tr>\n      <th>3</th>\n      <td>Mature 17+</td>\n      <td>5524491178</td>\n    </tr>\n    <tr>\n      <th>4</th>\n      <td>Teen</td>\n      <td>34716350393</td>\n    </tr>\n    <tr>\n      <th>5</th>\n      <td>Unrated</td>\n      <td>50500</td>\n    </tr>\n  </tbody>\n</table>\n</div>"
     },
     "metadata": {}
    },
    {
     "data": {
      "text/plain": "<Figure size 864x432 with 1 Axes>",
      "image/png": "[encoded data removed]"
     },
     "metadata": {
      "needs_background": "light",
      "image/png": {
       "width": 706,
       "height": 457
      }
     },
     "output_type": "display_data"
    }
   ],
   "execution_count": 151
  },
  {
   "cell_type": "markdown",
   "source": "As you can see from the chart and data above the wider of an audience the content rating includes (general includes everyone, both adults and children, whereas adult only includes adults), it is more likely to get a lot of installs. Making an app that appeals to a wide range of people will lead to a wide range of people downloading it. There are over 114 trillion downloads for the content rating of Everyone compared to only 2 million downloads in the adult content rating.\n\nWhen calculating data in the install category I had challenges due to the fact the values were strings and had commas and other characters that were irrelevant. I tried using list comprehension which failed but then I used regex along with the pandas apply function to remove the unwanted characters as well as converting the strings to integers for calculation.",
   "metadata": {
    "tags": [],
    "cell_id": "00013-605458be-2d18-4997-bd61-57353d36adcb",
    "deepnote_cell_type": "markdown"
   }
  },
  {
   "cell_type": "markdown",
   "source": "### Do certain categories have more paid apps vs free apps, such as education having lots of paid apps?",
   "metadata": {
    "tags": [],
    "cell_id": "00017-5e699588-e654-4559-ac6b-624607e3afb2",
    "deepnote_cell_type": "markdown"
   }
  },
  {
   "cell_type": "code",
   "source": "#olly \n\npvsf_category = df.groupby(['Category', 'Type']).size().reset_index()\npvsf_category",
   "metadata": {
    "tags": [],
    "cell_id": "00018-daca0514-6b70-419b-82f2-d3cd58d4be47",
    "deepnote_to_be_reexecuted": false,
    "source_hash": "aef9cfd7",
    "execution_start": 1638837714909,
    "execution_millis": 54,
    "deepnote_output_heights": [
     186.01666259765625,
     21.199996948242188
    ],
    "deepnote_cell_type": "code"
   },
   "outputs": [
    {
     "output_type": "execute_result",
     "execution_count": 152,
     "data": {
      "application/vnd.deepnote.dataframe.v2+json": {
       "row_count": 63,
       "column_count": 3,
       "columns": [
        {
         "name": "Category",
         "dtype": "object",
         "stats": {
          "unique_count": 33,
          "nan_count": 0,
          "categories": [
           {
            "name": "ART_AND_DESIGN",
            "count": 2
           },
           {
            "name": "AUTO_AND_VEHICLES",
            "count": 2
           },
           {
            "name": "31 others",
            "count": 59
           }
          ]
         }
        },
        {
         "name": "Type",
         "dtype": "object",
         "stats": {
          "unique_count": 2,
          "nan_count": 0,
          "categories": [
           {
            "name": "Free",
            "count": 33
           },
           {
            "name": "Paid",
            "count": 30
           }
          ]
         }
        },
        {
         "name": 0,
         "dtype": "int64",
         "stats": {
          "unique_count": 52,
          "nan_count": 0,
          "min": "1",
          "max": "1780",
          "histogram": [
           {
            "bin_start": 1,
            "bin_end": 178.9,
            "count": 43
           },
           {
            "bin_start": 178.9,
            "bin_end": 356.8,
            "count": 12
           },
           {
            "bin_start": 356.8,
            "bin_end": 534.7,
            "count": 5
           },
           {
            "bin_start": 534.7,
            "bin_end": 712.6,
            "count": 0
           },
           {
            "bin_start": 712.6,
            "bin_end": 890.5,
            "count": 1
           },
           {
            "bin_start": 890.5,
            "bin_end": 1068.4,
            "count": 1
           },
           {
            "bin_start": 1068.4,
            "bin_end": 1246.3,
            "count": 0
           },
           {
            "bin_start": 1246.3,
            "bin_end": 1424.2,
            "count": 0
           },
           {
            "bin_start": 1424.2,
            "bin_end": 1602.1000000000001,
            "count": 0
           },
           {
            "bin_start": 1602.1000000000001,
            "bin_end": 1780,
            "count": 1
           }
          ]
         }
        },
        {
         "name": "_deepnote_index_column",
         "dtype": "int64"
        }
       ],
       "rows_top": [
        {
         "0": 62,
         "Category": "ART_AND_DESIGN",
         "Type": "Free",
         "_deepnote_index_column": 0
        },
        {
         "0": 3,
         "Category": "ART_AND_DESIGN",
         "Type": "Paid",
         "_deepnote_index_column": 1
        },
        {
         "0": 82,
         "Category": "AUTO_AND_VEHICLES",
         "Type": "Free",
         "_deepnote_index_column": 2
        },
        {
         "0": 3,
         "Category": "AUTO_AND_VEHICLES",
         "Type": "Paid",
         "_deepnote_index_column": 3
        },
        {
         "0": 53,
         "Category": "BEAUTY",
         "Type": "Free",
         "_deepnote_index_column": 4
        },
        {
         "0": 203,
         "Category": "BOOKS_AND_REFERENCE",
         "Type": "Free",
         "_deepnote_index_column": 5
        },
        {
         "0": 28,
         "Category": "BOOKS_AND_REFERENCE",
         "Type": "Paid",
         "_deepnote_index_column": 6
        },
        {
         "0": 446,
         "Category": "BUSINESS",
         "Type": "Free",
         "_deepnote_index_column": 7
        },
        {
         "0": 14,
         "Category": "BUSINESS",
         "Type": "Paid",
         "_deepnote_index_column": 8
        },
        {
         "0": 60,
         "Category": "COMICS",
         "Type": "Free",
         "_deepnote_index_column": 9
        },
        {
         "0": 360,
         "Category": "COMMUNICATION",
         "Type": "Free",
         "_deepnote_index_column": 10
        },
        {
         "0": 27,
         "Category": "COMMUNICATION",
         "Type": "Paid",
         "_deepnote_index_column": 11
        },
        {
         "0": 227,
         "Category": "DATING",
         "Type": "Free",
         "_deepnote_index_column": 12
        },
        {
         "0": 7,
         "Category": "DATING",
         "Type": "Paid",
         "_deepnote_index_column": 13
        },
        {
         "0": 152,
         "Category": "EDUCATION",
         "Type": "Free",
         "_deepnote_index_column": 14
        },
        {
         "0": 4,
         "Category": "EDUCATION",
         "Type": "Paid",
         "_deepnote_index_column": 15
        },
        {
         "0": 147,
         "Category": "ENTERTAINMENT",
         "Type": "Free",
         "_deepnote_index_column": 16
        },
        {
         "0": 2,
         "Category": "ENTERTAINMENT",
         "Type": "Paid",
         "_deepnote_index_column": 17
        },
        {
         "0": 63,
         "Category": "EVENTS",
         "Type": "Free",
         "_deepnote_index_column": 18
        },
        {
         "0": 1,
         "Category": "EVENTS",
         "Type": "Paid",
         "_deepnote_index_column": 19
        },
        {
         "0": 1780,
         "Category": "FAMILY",
         "Type": "Free",
         "_deepnote_index_column": 20
        },
        {
         "0": 191,
         "Category": "FAMILY",
         "Type": "Paid",
         "_deepnote_index_column": 21
        },
        {
         "0": 349,
         "Category": "FINANCE",
         "Type": "Free",
         "_deepnote_index_column": 22
        },
        {
         "0": 17,
         "Category": "FINANCE",
         "Type": "Paid",
         "_deepnote_index_column": 23
        },
        {
         "0": 125,
         "Category": "FOOD_AND_DRINK",
         "Type": "Free",
         "_deepnote_index_column": 24
        },
        {
         "0": 2,
         "Category": "FOOD_AND_DRINK",
         "Type": "Paid",
         "_deepnote_index_column": 25
        },
        {
         "0": 1061,
         "Category": "GAME",
         "Type": "Free",
         "_deepnote_index_column": 26
        },
        {
         "0": 83,
         "Category": "GAME",
         "Type": "Paid",
         "_deepnote_index_column": 27
        },
        {
         "0": 325,
         "Category": "HEALTH_AND_FITNESS",
         "Type": "Free",
         "_deepnote_index_column": 28
        },
        {
         "0": 16,
         "Category": "HEALTH_AND_FITNESS",
         "Type": "Paid",
         "_deepnote_index_column": 29
        },
        {
         "0": 88,
         "Category": "HOUSE_AND_HOME",
         "Type": "Free",
         "_deepnote_index_column": 30
        },
        {
         "0": 84,
         "Category": "LIBRARIES_AND_DEMO",
         "Type": "Free",
         "_deepnote_index_column": 31
        },
        {
         "0": 1,
         "Category": "LIBRARIES_AND_DEMO",
         "Type": "Paid",
         "_deepnote_index_column": 32
        },
        {
         "0": 363,
         "Category": "LIFESTYLE",
         "Type": "Free",
         "_deepnote_index_column": 33
        },
        {
         "0": 19,
         "Category": "LIFESTYLE",
         "Type": "Paid",
         "_deepnote_index_column": 34
        },
        {
         "0": 132,
         "Category": "MAPS_AND_NAVIGATION",
         "Type": "Free",
         "_deepnote_index_column": 35
        },
        {
         "0": 5,
         "Category": "MAPS_AND_NAVIGATION",
         "Type": "Paid",
         "_deepnote_index_column": 36
        },
        {
         "0": 354,
         "Category": "MEDICAL",
         "Type": "Free",
         "_deepnote_index_column": 37
        },
        {
         "0": 109,
         "Category": "MEDICAL",
         "Type": "Paid",
         "_deepnote_index_column": 38
        },
        {
         "0": 281,
         "Category": "NEWS_AND_MAGAZINES",
         "Type": "Free",
         "_deepnote_index_column": 39
        },
        {
         "0": 2,
         "Category": "NEWS_AND_MAGAZINES",
         "Type": "Paid",
         "_deepnote_index_column": 40
        },
        {
         "0": 58,
         "Category": "PARENTING",
         "Type": "Free",
         "_deepnote_index_column": 41
        },
        {
         "0": 2,
         "Category": "PARENTING",
         "Type": "Paid",
         "_deepnote_index_column": 42
        },
        {
         "0": 309,
         "Category": "PERSONALIZATION",
         "Type": "Free",
         "_deepnote_index_column": 43
        },
        {
         "0": 83,
         "Category": "PERSONALIZATION",
         "Type": "Paid",
         "_deepnote_index_column": 44
        },
        {
         "0": 313,
         "Category": "PHOTOGRAPHY",
         "Type": "Free",
         "_deepnote_index_column": 45
        },
        {
         "0": 22,
         "Category": "PHOTOGRAPHY",
         "Type": "Paid",
         "_deepnote_index_column": 46
        },
        {
         "0": 396,
         "Category": "PRODUCTIVITY",
         "Type": "Free",
         "_deepnote_index_column": 47
        },
        {
         "0": 28,
         "Category": "PRODUCTIVITY",
         "Type": "Paid",
         "_deepnote_index_column": 48
        },
        {
         "0": 258,
         "Category": "SHOPPING",
         "Type": "Free",
         "_deepnote_index_column": 49
        },
        {
         "0": 2,
         "Category": "SHOPPING",
         "Type": "Paid",
         "_deepnote_index_column": 50
        },
        {
         "0": 292,
         "Category": "SOCIAL",
         "Type": "Free",
         "_deepnote_index_column": 51
        },
        {
         "0": 3,
         "Category": "SOCIAL",
         "Type": "Paid",
         "_deepnote_index_column": 52
        },
        {
         "0": 360,
         "Category": "SPORTS",
         "Type": "Free",
         "_deepnote_index_column": 53
        },
        {
         "0": 24,
         "Category": "SPORTS",
         "Type": "Paid",
         "_deepnote_index_column": 54
        },
        {
         "0": 765,
         "Category": "TOOLS",
         "Type": "Free",
         "_deepnote_index_column": 55
        },
        {
         "0": 78,
         "Category": "TOOLS",
         "Type": "Paid",
         "_deepnote_index_column": 56
        },
        {
         "0": 246,
         "Category": "TRAVEL_AND_LOCAL",
         "Type": "Free",
         "_deepnote_index_column": 57
        },
        {
         "0": 12,
         "Category": "TRAVEL_AND_LOCAL",
         "Type": "Paid",
         "_deepnote_index_column": 58
        },
        {
         "0": 171,
         "Category": "VIDEO_PLAYERS",
         "Type": "Free",
         "_deepnote_index_column": 59
        },
        {
         "0": 4,
         "Category": "VIDEO_PLAYERS",
         "Type": "Paid",
         "_deepnote_index_column": 60
        },
        {
         "0": 74,
         "Category": "WEATHER",
         "Type": "Free",
         "_deepnote_index_column": 61
        },
        {
         "0": 8,
         "Category": "WEATHER",
         "Type": "Paid",
         "_deepnote_index_column": 62
        }
       ],
       "rows_bottom": null
      },
      "text/plain": "             Category  Type    0\n0      ART_AND_DESIGN  Free   62\n1      ART_AND_DESIGN  Paid    3\n2   AUTO_AND_VEHICLES  Free   82\n3   AUTO_AND_VEHICLES  Paid    3\n4              BEAUTY  Free   53\n..                ...   ...  ...\n58   TRAVEL_AND_LOCAL  Paid   12\n59      VIDEO_PLAYERS  Free  171\n60      VIDEO_PLAYERS  Paid    4\n61            WEATHER  Free   74\n62            WEATHER  Paid    8\n\n[63 rows x 3 columns]",
      "text/html": "<div>\n<style scoped>\n    .dataframe tbody tr th:only-of-type {\n        vertical-align: middle;\n    }\n\n    .dataframe tbody tr th {\n        vertical-align: top;\n    }\n\n    .dataframe thead th {\n        text-align: right;\n    }\n</style>\n<table border=\"1\" class=\"dataframe\">\n  <thead>\n    <tr style=\"text-align: right;\">\n      <th></th>\n      <th>Category</th>\n      <th>Type</th>\n      <th>0</th>\n    </tr>\n  </thead>\n  <tbody>\n    <tr>\n      <th>0</th>\n      <td>ART_AND_DESIGN</td>\n      <td>Free</td>\n      <td>62</td>\n    </tr>\n    <tr>\n      <th>1</th>\n      <td>ART_AND_DESIGN</td>\n      <td>Paid</td>\n      <td>3</td>\n    </tr>\n    <tr>\n      <th>2</th>\n      <td>AUTO_AND_VEHICLES</td>\n      <td>Free</td>\n      <td>82</td>\n    </tr>\n    <tr>\n      <th>3</th>\n      <td>AUTO_AND_VEHICLES</td>\n      <td>Paid</td>\n      <td>3</td>\n    </tr>\n    <tr>\n      <th>4</th>\n      <td>BEAUTY</td>\n      <td>Free</td>\n      <td>53</td>\n    </tr>\n    <tr>\n      <th>...</th>\n      <td>...</td>\n      <td>...</td>\n      <td>...</td>\n    </tr>\n    <tr>\n      <th>58</th>\n      <td>TRAVEL_AND_LOCAL</td>\n      <td>Paid</td>\n      <td>12</td>\n    </tr>\n    <tr>\n      <th>59</th>\n      <td>VIDEO_PLAYERS</td>\n      <td>Free</td>\n      <td>171</td>\n    </tr>\n    <tr>\n      <th>60</th>\n      <td>VIDEO_PLAYERS</td>\n      <td>Paid</td>\n      <td>4</td>\n    </tr>\n    <tr>\n      <th>61</th>\n      <td>WEATHER</td>\n      <td>Free</td>\n      <td>74</td>\n    </tr>\n    <tr>\n      <th>62</th>\n      <td>WEATHER</td>\n      <td>Paid</td>\n      <td>8</td>\n    </tr>\n  </tbody>\n</table>\n<p>63 rows × 3 columns</p>\n</div>"
     },
     "metadata": {}
    }
   ],
   "execution_count": 152
  },
  {
   "cell_type": "markdown",
   "source": "From the sample above we can see that generally every genre has more free apps then paid apps. Consumers must tend to be more likely to install free apps, so companies choose to make apps free over paid. There was some trouble grouping the data correctly, but then it was solved",
   "metadata": {
    "tags": [],
    "cell_id": "00020-7d45ac38-d044-4380-8ea2-de608ef78324",
    "deepnote_cell_type": "markdown"
   }
  },
  {
   "cell_type": "markdown",
   "source": "### Does the app category have any correlation with the app size? ",
   "metadata": {
    "tags": [],
    "cell_id": "00018-edf8b1ce-6729-4841-86cd-9922ac57d29c",
    "deepnote_cell_type": "markdown"
   }
  },
  {
   "cell_type": "code",
   "source": "#olly",
   "metadata": {
    "tags": [],
    "cell_id": "00019-8556251c-8898-4753-bcc7-01003b9b2f54",
    "deepnote_to_be_reexecuted": true,
    "source_hash": "eec45311",
    "deepnote_cell_type": "code"
   },
   "outputs": [],
   "execution_count": null
  },
  {
   "cell_type": "markdown",
   "source": "### Does payment type correlate with good ratings? Are paid apps more likely to have good ratings then free apps?",
   "metadata": {
    "tags": [],
    "cell_id": "00019-d3e3418a-d890-476d-960d-54d360bec171",
    "deepnote_cell_type": "markdown"
   }
  },
  {
   "cell_type": "code",
   "source": "#azan\npvsf_rating = df.groupby(['Type', 'Rating']).size().reset_index()\npvsf_rating.rename(columns={'':'Count'})\n# sns.lineplot(data=pvsf_rating, x=\"Rating\", y=\"Count\", hue=\"Type\")\nlist(pvsf_rating)",
   "metadata": {
    "tags": [],
    "cell_id": "00021-a17e3323-c9f0-449a-9ab4-ac0d3c48aa85",
    "deepnote_to_be_reexecuted": false,
    "source_hash": "455a657e",
    "execution_start": 1638837864097,
    "execution_millis": 17,
    "deepnote_output_heights": [
     21.199996948242188,
     264
    ],
    "deepnote_cell_type": "code"
   },
   "outputs": [
    {
     "output_type": "execute_result",
     "execution_count": 163,
     "data": {
      "text/plain": "['Type', 'Rating', 0]"
     },
     "metadata": {}
    }
   ],
   "execution_count": 163
  },
  {
   "cell_type": "markdown",
   "source": "# Potential Data Science",
   "metadata": {
    "tags": [],
    "cell_id": "00005-fb7ea828-4618-4705-9813-88e025336e05",
    "deepnote_cell_type": "markdown"
   }
  },
  {
   "cell_type": "markdown",
   "source": "# Conclusion\nolly",
   "metadata": {
    "tags": [],
    "cell_id": "00006-757bce96-9817-4091-a37b-a8b08bf14390",
    "deepnote_cell_type": "markdown"
   }
  },
  {
   "cell_type": "markdown",
   "source": "",
   "metadata": {
    "tags": [],
    "cell_id": "00007-08e5c03d-5b80-40f0-be21-691b7485fb5b",
    "deepnote_cell_type": "markdown"
   }
  },
  {
   "cell_type": "markdown",
   "source": "<a style='text-decoration:none;line-height:16px;display:flex;color:#5B5B62;padding:10px;justify-content:end;' href='https://deepnote.com?utm_source=created-in-deepnote-cell&projectId=0264070f-b165-4856-b142-ba0d75822d5e' target=\"_blank\">\n<img alt='Created in deepnote.com' style='display:inline;max-height:16px;margin:0px;margin-right:7.5px;' src='data:image/svg+xml;base64,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' > </img>\nCreated in <span style='font-weight:600;margin-left:4px;'>Deepnote</span></a>",
   "metadata": {
    "tags": [],
    "created_in_deepnote_cell": true,
    "deepnote_cell_type": "markdown"
   }
  }
 ],
 "nbformat": 4,
 "nbformat_minor": 2,
 "metadata": {
  "orig_nbformat": 2,
  "deepnote": {
   "is_reactive": false
  },
  "deepnote_notebook_id": "ccb91751-622e-4f8b-9b42-86b1b1546233",
  "deepnote_execution_queue": []
 }
}