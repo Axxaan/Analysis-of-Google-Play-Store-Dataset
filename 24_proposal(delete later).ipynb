{
 "cells": [
  {
   "cell_type": "markdown",
   "source": "# **CSCI 2000U - Scientific Data Analysis**\n## Final Project Proposol - Project Group 24\n\n**Due date:** Oct 29th 11:59PM via Canvas.\n\n\n\n\n",
   "metadata": {
    "id": "HjdFS92uaqfx",
    "cell_id": "00000-a77bf4ad-e787-47e3-8b8a-6f308cab20e3",
    "deepnote_app_coordinates": {
     "x": 0,
     "y": null,
     "w": 12,
     "h": 5
    },
    "deepnote_cell_type": "markdown"
   }
  },
  {
   "cell_type": "markdown",
   "source": "## Names:\n##### Azan Sikder\n##### Dane Rosedo\n##### Olly Love",
   "metadata": {
    "id": "Da3xcaumbBy2",
    "cell_id": "00001-b3a857f6-e4d8-4d63-8608-1db70da1c2fc",
    "deepnote_app_coordinates": {
     "x": 0,
     "y": 6,
     "w": 12,
     "h": 5
    },
    "deepnote_cell_type": "markdown"
   }
  },
  {
   "cell_type": "markdown",
   "source": "## **Name and Source of chosen dataset**\n##### **Name of Dataset:** Google Play Store Apps\n##### **Source:** https://www.kaggle.com/lava18/google-play-store-apps",
   "metadata": {
    "id": "ZvsdXhsagdKH",
    "cell_id": "00002-110db3c0-d2dd-403e-a15e-d5bc483c223d",
    "deepnote_app_coordinates": {
     "x": 0,
     "y": 12,
     "w": 12,
     "h": 5
    },
    "deepnote_cell_type": "markdown"
   }
  },
  {
   "cell_type": "markdown",
   "source": "## **Description:**\nThis dataset provides information about the 10,000 applications that users can download from the Google Play Store. The data was collected from the Google Play Store by web scaping.\n## **Description of each Attribute**:\n- App: Application name \n- Category: Category the app belongs to \n- Rating: Overall user rating of the app \n- Reviews: Number of user reviews for the app \n- Size: Size of the app in megabytes\n- Installs: Number of user downloads/installs for the app\n- Type: Paid or Free\n- Price: Price of the app\n- Content Rating: Age group the app is targeted at - Children / Mature 21+ /  Adult\n- Genres: An app can belong to multiple genres (apart from its main category). For eg, a musical family game will belong to ",
   "metadata": {
    "id": "rIvjJdIxhRmC",
    "cell_id": "00003-d324a86e-5978-413d-8c2c-d2d07f43760e",
    "deepnote_app_coordinates": {
     "x": 0,
     "y": 18,
     "w": 12,
     "h": 5
    },
    "deepnote_cell_type": "markdown"
   }
  },
  {
   "cell_type": "markdown",
   "source": "# **Getting to know the data**",
   "metadata": {
    "id": "_WPQlxY1hbSZ",
    "cell_id": "00004-84677b21-f100-492b-86ad-cc9210763caa",
    "deepnote_app_coordinates": {
     "x": 0,
     "y": 24,
     "w": 12,
     "h": 5
    },
    "deepnote_cell_type": "markdown"
   }
  },
  {
   "cell_type": "code",
   "metadata": {
    "id": "hmXhyo0YbEGu",
    "cell_id": "00005-a7ae1ac9-738b-41b2-85b8-41c0c05d4ffa",
    "deepnote_to_be_reexecuted": false,
    "source_hash": "7c02c95c",
    "execution_start": 1638726012737,
    "execution_millis": 152,
    "deepnote_app_coordinates": {
     "x": 0,
     "y": 30,
     "w": 12,
     "h": 5
    },
    "deepnote_cell_type": "code"
   },
   "source": "#importing used libraries\nimport csv\nimport re\nfrom functools import reduce\nimport numpy as np\n\n# this aux function reads the CSV file and returns the data in a Python dictionary\ndef get_data_csv():\n    collection = []\n    with open('googleplaystore.csv', 'r') as f:\n        for line in csv.DictReader(f):\n            collection.append(line)\n        return collection\n        \n# the data    \ndata = get_data_csv()",
   "execution_count": null,
   "outputs": []
  },
  {
   "cell_type": "code",
   "metadata": {
    "colab": {
     "base_uri": "https://localhost:8080/"
    },
    "id": "sir8Gf5BqPI9",
    "outputId": "b86ee452-1f4b-4842-b112-b9d4624027e4",
    "cell_id": "00006-bcbc3eed-9364-443d-9664-5669eafb6827",
    "deepnote_to_be_reexecuted": false,
    "source_hash": "27d9e668",
    "execution_start": 1638726012901,
    "execution_millis": 20,
    "deepnote_app_coordinates": {
     "x": 0,
     "y": 36,
     "w": 12,
     "h": 5
    },
    "deepnote_output_heights": [
     21.1875
    ],
    "deepnote_cell_type": "code"
   },
   "source": "len(data)",
   "execution_count": null,
   "outputs": [
    {
     "output_type": "execute_result",
     "execution_count": 2,
     "data": {
      "text/plain": "10840"
     },
     "metadata": {}
    }
   ]
  },
  {
   "cell_type": "code",
   "metadata": {
    "colab": {
     "base_uri": "https://localhost:8080/"
    },
    "id": "8eowaGVTqWSH",
    "outputId": "c38449d9-ac79-44cc-ffd6-f57fbc6786d9",
    "cell_id": "00007-73af547a-fe2a-49bf-905d-a7596b46b373",
    "deepnote_to_be_reexecuted": false,
    "source_hash": "41a1138e",
    "execution_start": 1638726012951,
    "execution_millis": 52,
    "deepnote_app_coordinates": {
     "x": 0,
     "y": 42,
     "w": 12,
     "h": 5
    },
    "deepnote_output_heights": [
     611
    ],
    "deepnote_cell_type": "code"
   },
   "source": "rows = list(data)\nrows[:5]",
   "execution_count": null,
   "outputs": [
    {
     "output_type": "execute_result",
     "execution_count": 3,
     "data": {
      "text/plain": "[OrderedDict([('App', 'Photo Editor & Candy Camera & Grid & ScrapBook'),\n              ('Category', 'ART_AND_DESIGN'),\n              ('Rating', '4.1'),\n              ('Reviews', '159'),\n              ('Size', '19M'),\n              ('Installs', '10,000+'),\n              ('Type', 'Free'),\n              ('Price', '0'),\n              ('Content Rating', 'Everyone'),\n              ('Genres', 'Art & Design'),\n              ('Last Updated', '07-Jan-18'),\n              ('Current Ver', '1.0.0'),\n              ('Android Ver', '4.0.3 and up')]),\n OrderedDict([('App', 'Coloring book moana'),\n              ('Category', 'ART_AND_DESIGN'),\n              ('Rating', '3.9'),\n              ('Reviews', '967'),\n              ('Size', '14M'),\n              ('Installs', '500,000+'),\n              ('Type', 'Free'),\n              ('Price', '0'),\n              ('Content Rating', 'Everyone'),\n              ('Genres', 'Art & Design;Pretend Play'),\n              ('Last Updated', '15-Jan-18'),\n              ('Current Ver', '2.0.0'),\n              ('Android Ver', '4.0.3 and up')]),\n OrderedDict([('App', 'U Launcher Lite – FREE Live Cool Themes, Hide Apps'),\n              ('Category', 'ART_AND_DESIGN'),\n              ('Rating', '4.7'),\n              ('Reviews', '87510'),\n              ('Size', '8.7M'),\n              ('Installs', '5,000,000+'),\n              ('Type', 'Free'),\n              ('Price', '0'),\n              ('Content Rating', 'Everyone'),\n              ('Genres', 'Art & Design'),\n              ('Last Updated', '01-Aug-18'),\n              ('Current Ver', '1.2.4'),\n              ('Android Ver', '4.0.3 and up')]),\n OrderedDict([('App', 'Sketch - Draw & Paint'),\n              ('Category', 'ART_AND_DESIGN'),\n              ('Rating', '4.5'),\n              ('Reviews', '215644'),\n              ('Size', '25M'),\n              ('Installs', '50,000,000+'),\n              ('Type', 'Free'),\n              ('Price', '0'),\n              ('Content Rating', 'Teen'),\n              ('Genres', 'Art & Design'),\n              ('Last Updated', '08-Jun-18'),\n              ('Current Ver', 'Varies with device'),\n              ('Android Ver', '4.2 and up')]),\n OrderedDict([('App', 'Pixel Draw - Number Art Coloring Book'),\n              ('Category', 'ART_AND_DESIGN'),\n              ('Rating', '4.3'),\n              ('Reviews', '967'),\n              ('Size', '2.8M'),\n              ('Installs', '100,000+'),\n              ('Type', 'Free'),\n              ('Price', '0'),\n              ('Content Rating', 'Everyone'),\n              ('Genres', 'Art & Design;Creativity'),\n              ('Last Updated', '20-Jun-18'),\n              ('Current Ver', '1.1'),\n              ('Android Ver', '4.4 and up')])]"
     },
     "metadata": {}
    }
   ]
  },
  {
   "cell_type": "code",
   "metadata": {
    "id": "iSmI0LQfqWck",
    "colab": {
     "base_uri": "https://localhost:8080/"
    },
    "outputId": "8b146597-18cb-4773-9b31-29fc5d94d16c",
    "cell_id": "00008-e47279d8-1332-41f9-bf27-c19653a4d09f",
    "deepnote_to_be_reexecuted": false,
    "source_hash": "4ec04f17",
    "execution_start": 1638726013002,
    "execution_millis": 1505,
    "deepnote_app_coordinates": {
     "x": 0,
     "y": 48,
     "w": 12,
     "h": 5
    },
    "deepnote_cell_type": "code"
   },
   "source": "#Number of unique games in data set\n\ndata_games_copy = [] #empty list\n\nfor x in range(len(data)): #copy games into empty list\n    data_games_copy.append(data[x]['App'])\ngames = []\nfor i in data_games_copy: #find duplicates of games and remove them, then add them to the empty list\n    if i not in games:\n        games.append(i)\nprint(\"There are \" + str(len(games))+  \" Unique Games in this dataset\") #display amount of games in data",
   "execution_count": null,
   "outputs": [
    {
     "name": "stdout",
     "text": "There are 9659 Unique Games in this dataset\n",
     "output_type": "stream"
    }
   ]
  },
  {
   "cell_type": "code",
   "metadata": {
    "id": "j7nrpu0dqWmk",
    "cell_id": "00009-29aff6ac-631f-473d-b5a1-b7a608f4ee8c",
    "deepnote_to_be_reexecuted": false,
    "source_hash": "54b33fa1",
    "execution_start": 1638726014516,
    "execution_millis": 29,
    "deepnote_app_coordinates": {
     "x": 0,
     "y": 54,
     "w": 12,
     "h": 5
    },
    "deepnote_output_heights": [
     null,
     611
    ],
    "deepnote_cell_type": "code"
   },
   "source": "#Amount of categories\ndata_category_copy = list(map(lambda x: (x['Category']), data)) #list of categories\ncategory = sorted(set(data_category_copy)) #sorted list of categories with duplicates removed\nprint(\"There are \", len(category), \" categories\")\ncategory",
   "execution_count": null,
   "outputs": [
    {
     "name": "stdout",
     "text": "There are  33  categories\n",
     "output_type": "stream"
    },
    {
     "output_type": "execute_result",
     "execution_count": 5,
     "data": {
      "text/plain": "['ART_AND_DESIGN',\n 'AUTO_AND_VEHICLES',\n 'BEAUTY',\n 'BOOKS_AND_REFERENCE',\n 'BUSINESS',\n 'COMICS',\n 'COMMUNICATION',\n 'DATING',\n 'EDUCATION',\n 'ENTERTAINMENT',\n 'EVENTS',\n 'FAMILY',\n 'FINANCE',\n 'FOOD_AND_DRINK',\n 'GAME',\n 'HEALTH_AND_FITNESS',\n 'HOUSE_AND_HOME',\n 'LIBRARIES_AND_DEMO',\n 'LIFESTYLE',\n 'MAPS_AND_NAVIGATION',\n 'MEDICAL',\n 'NEWS_AND_MAGAZINES',\n 'PARENTING',\n 'PERSONALIZATION',\n 'PHOTOGRAPHY',\n 'PRODUCTIVITY',\n 'SHOPPING',\n 'SOCIAL',\n 'SPORTS',\n 'TOOLS',\n 'TRAVEL_AND_LOCAL',\n 'VIDEO_PLAYERS',\n 'WEATHER']"
     },
     "metadata": {}
    }
   ]
  },
  {
   "cell_type": "code",
   "metadata": {
    "id": "Jaw24nm3qWvW",
    "cell_id": "00010-061d066b-25ae-4118-8b1f-92e5c5adaef6",
    "deepnote_to_be_reexecuted": false,
    "source_hash": "ecd2c638",
    "execution_start": 1638726014589,
    "execution_millis": 5,
    "deepnote_app_coordinates": {
     "x": 0,
     "y": 60,
     "w": 12,
     "h": 5
    },
    "deepnote_cell_type": "code"
   },
   "source": "#Range of ratings\ndata_rating_copy = list(map(lambda x: (x['Rating']), data))\nrating = sorted(set(data_rating_copy))\nprint(rating)\nprint(\"The lowest rating is\", rating[0], \"and the highest rating is\" , rating[-2]) #range of ratings\nprint(\"Some apps are unrated:\", rating[-1])",
   "execution_count": null,
   "outputs": [
    {
     "name": "stdout",
     "text": "['1', '1.2', '1.4', '1.5', '1.6', '1.7', '1.8', '1.9', '2', '2.1', '2.2', '2.3', '2.4', '2.5', '2.6', '2.7', '2.8', '2.9', '3', '3.1', '3.2', '3.3', '3.4', '3.5', '3.6', '3.7', '3.8', '3.9', '4', '4.1', '4.2', '4.3', '4.4', '4.5', '4.6', '4.7', '4.8', '4.9', '5', 'NaN']\nThe lowest rating is 1 and the highest rating is 5\nSome apps are unrated: NaN\n",
     "output_type": "stream"
    }
   ]
  },
  {
   "cell_type": "code",
   "metadata": {
    "id": "EUtx1a_VqW5a",
    "cell_id": "00011-63a6b86e-9808-4929-b311-11b717648932",
    "deepnote_to_be_reexecuted": false,
    "source_hash": "59be27f7",
    "execution_start": 1638726014590,
    "execution_millis": 95,
    "deepnote_app_coordinates": {
     "x": 0,
     "y": 66,
     "w": 12,
     "h": 5
    },
    "deepnote_output_heights": [
     null,
     611
    ],
    "deepnote_cell_type": "code"
   },
   "source": "#Reviews and their range\nreviews = [row['Reviews'] for row in rows]\nlength = len(reviews)\nprint(\"The amount of reviews per game range from\", min(reviews), \"to\", max(reviews))\nlist(sorted(reviews))",
   "execution_count": null,
   "outputs": [
    {
     "name": "stdout",
     "text": "The amount of reviews per game range from 0 to 9992\n",
     "output_type": "stream"
    },
    {
     "output_type": "execute_result",
     "execution_count": 7,
     "data": {
      "text/plain": "['0',\n '0',\n '0',\n '0',\n '0',\n '0',\n '0',\n '0',\n '0',\n '0',\n '0',\n '0',\n '0',\n '0',\n '0',\n '0',\n '0',\n '0',\n '0',\n '0',\n '0',\n '0',\n '0',\n '0',\n '0',\n '0',\n '0',\n '0',\n '0',\n '0',\n '0',\n '0',\n '0',\n '0',\n '0',\n '0',\n '0',\n '0',\n '0',\n '0',\n '0',\n '0',\n '0',\n '0',\n '0',\n '0',\n '0',\n '0',\n '0',\n '0',\n '0',\n '0',\n '0',\n '0',\n '0',\n '0',\n '0',\n '0',\n '0',\n '0',\n '0',\n '0',\n '0',\n '0',\n '0',\n '0',\n '0',\n '0',\n '0',\n '0',\n '0',\n '0',\n '0',\n '0',\n '0',\n '0',\n '0',\n '0',\n '0',\n '0',\n '0',\n '0',\n '0',\n '0',\n '0',\n '0',\n '0',\n '0',\n '0',\n '0',\n '0',\n '0',\n '0',\n '0',\n '0',\n '0',\n '0',\n '0',\n '0',\n '0',\n '0',\n '0',\n '0',\n '0',\n '0',\n '0',\n '0',\n '0',\n '0',\n '0',\n '0',\n '0',\n '0',\n '0',\n '0',\n '0',\n '0',\n '0',\n '0',\n '0',\n '0',\n '0',\n '0',\n '0',\n '0',\n '0',\n '0',\n '0',\n '0',\n '0',\n '0',\n '0',\n '0',\n '0',\n '0',\n '0',\n '0',\n '0',\n '0',\n '0',\n '0',\n '0',\n '0',\n '0',\n '0',\n '0',\n '0',\n '0',\n '0',\n '0',\n '0',\n '0',\n '0',\n '0',\n '0',\n '0',\n '0',\n '0',\n '0',\n '0',\n '0',\n '0',\n '0',\n '0',\n '0',\n '0',\n '0',\n '0',\n '0',\n '0',\n '0',\n '0',\n '0',\n '0',\n '0',\n '0',\n '0',\n '0',\n '0',\n '0',\n '0',\n '0',\n '0',\n '0',\n '0',\n '0',\n '0',\n '0',\n '0',\n '0',\n '0',\n '0',\n '0',\n '0',\n '0',\n '0',\n '0',\n '0',\n '0',\n '0',\n '0',\n '0',\n '0',\n '0',\n '0',\n '0',\n '0',\n '0',\n '0',\n '0',\n '0',\n '0',\n '0',\n '0',\n '0',\n '0',\n '0',\n '0',\n '0',\n '0',\n '0',\n '0',\n '0',\n '0',\n '0',\n '0',\n '0',\n '0',\n '0',\n '0',\n '0',\n '0',\n '0',\n '0',\n '0',\n '0',\n '0',\n '0',\n '0',\n '0',\n '0',\n '0',\n '0',\n '0',\n '0',\n '0',\n '0',\n '0',\n '0',\n '0',\n '0',\n '0',\n '0',\n '0',\n '0',\n '0',\n '0',\n '0',\n '0',\n '0',\n '0',\n '0',\n '0',\n '0',\n '0',\n '0',\n '0',\n '0',\n '0',\n '0',\n '0',\n '0',\n '0',\n '0',\n '0',\n '0',\n '0',\n '0',\n '0',\n '0',\n '0',\n '0',\n '0',\n '0',\n '0',\n '0',\n '0',\n '0',\n '0',\n '0',\n '0',\n '0',\n '0',\n '0',\n '0',\n '0',\n '0',\n '0',\n '0',\n '0',\n '0',\n '0',\n '0',\n '0',\n '0',\n '0',\n '0',\n '0',\n '0',\n '0',\n '0',\n '0',\n '0',\n '0',\n '0',\n '0',\n '0',\n '0',\n '0',\n '0',\n '0',\n '0',\n '0',\n '0',\n '0',\n '0',\n '0',\n '0',\n '0',\n '0',\n '0',\n '0',\n '0',\n '0',\n '0',\n '0',\n '0',\n '0',\n '0',\n '0',\n '0',\n '0',\n '0',\n '0',\n '0',\n '0',\n '0',\n '0',\n '0',\n '0',\n '0',\n '0',\n '0',\n '0',\n '0',\n '0',\n '0',\n '0',\n '0',\n '0',\n '0',\n '0',\n '0',\n '0',\n '0',\n '0',\n '0',\n '0',\n '0',\n '0',\n '0',\n '0',\n '0',\n '0',\n '0',\n '0',\n '0',\n '0',\n '0',\n '0',\n '0',\n '0',\n '0',\n '0',\n '0',\n '0',\n '0',\n '0',\n '0',\n '0',\n '0',\n '0',\n '0',\n '0',\n '0',\n '0',\n '0',\n '0',\n '0',\n '0',\n '0',\n '0',\n '0',\n '0',\n '0',\n '0',\n '0',\n '0',\n '0',\n '0',\n '0',\n '0',\n '0',\n '0',\n '0',\n '0',\n '0',\n '0',\n '0',\n '0',\n '0',\n '0',\n '0',\n '0',\n '0',\n '0',\n '0',\n '0',\n '0',\n '0',\n '0',\n '0',\n '0',\n '0',\n '0',\n '0',\n '0',\n '0',\n '0',\n '0',\n '0',\n '0',\n '0',\n '0',\n '0',\n '0',\n '0',\n '0',\n '0',\n '0',\n '0',\n '0',\n '0',\n '0',\n '0',\n '0',\n '0',\n '0',\n '0',\n '0',\n '0',\n '0',\n '0',\n '0',\n '0',\n '0',\n '0',\n '0',\n '0',\n '0',\n '0',\n '0',\n '0',\n '0',\n '0',\n '0',\n '0',\n '0',\n '0',\n '0',\n '0',\n '0',\n '0',\n '0',\n '0',\n '0',\n '0',\n '0',\n '0',\n '0',\n '0',\n '0',\n '0',\n '0',\n '0',\n '0',\n '0',\n '0',\n '0',\n '0',\n '0',\n '0',\n '0',\n '0',\n '0',\n '0',\n '0',\n '0',\n '0',\n '0',\n '0',\n '0',\n '0',\n '0',\n '0',\n '0',\n '0',\n '0',\n '0',\n '0',\n '0',\n '0',\n '0',\n '0',\n '0',\n '0',\n '0',\n '0',\n '0',\n '0',\n '0',\n '0',\n '0',\n '0',\n '0',\n '0',\n '0',\n '0',\n '0',\n '0',\n '0',\n '0',\n '0',\n '0',\n '0',\n '0',\n '0',\n '0',\n '0',\n '0',\n '0',\n '0',\n '0',\n '0',\n '0',\n '0',\n '0',\n '0',\n '0',\n '0',\n '0',\n '0',\n '0',\n '0',\n '0',\n '0',\n '0',\n '0',\n '0',\n '0',\n '0',\n '0',\n '0',\n '0',\n '0',\n '0',\n '0',\n '0',\n '0',\n '0',\n '0',\n '0',\n '0',\n '0',\n '0',\n '0',\n '0',\n '0',\n '0',\n '0',\n '0',\n '0',\n '0',\n '0',\n '0',\n '0',\n '1',\n '1',\n '1',\n '1',\n '1',\n '1',\n '1',\n '1',\n '1',\n '1',\n '1',\n '1',\n '1',\n '1',\n '1',\n '1',\n '1',\n '1',\n '1',\n '1',\n '1',\n '1',\n '1',\n '1',\n '1',\n '1',\n '1',\n '1',\n '1',\n '1',\n '1',\n '1',\n '1',\n '1',\n '1',\n '1',\n '1',\n '1',\n '1',\n '1',\n '1',\n '1',\n '1',\n '1',\n '1',\n '1',\n '1',\n '1',\n '1',\n '1',\n '1',\n '1',\n '1',\n '1',\n '1',\n '1',\n '1',\n '1',\n '1',\n '1',\n '1',\n '1',\n '1',\n '1',\n '1',\n '1',\n '1',\n '1',\n '1',\n '1',\n '1',\n '1',\n '1',\n '1',\n '1',\n '1',\n '1',\n '1',\n '1',\n '1',\n '1',\n '1',\n '1',\n '1',\n '1',\n '1',\n '1',\n '1',\n '1',\n '1',\n '1',\n '1',\n '1',\n '1',\n '1',\n '1',\n '1',\n '1',\n '1',\n '1',\n '1',\n '1',\n '1',\n '1',\n '1',\n '1',\n '1',\n '1',\n '1',\n '1',\n '1',\n '1',\n '1',\n '1',\n '1',\n '1',\n '1',\n '1',\n '1',\n '1',\n '1',\n '1',\n '1',\n '1',\n '1',\n '1',\n '1',\n '1',\n '1',\n '1',\n '1',\n '1',\n '1',\n '1',\n '1',\n '1',\n '1',\n '1',\n '1',\n '1',\n '1',\n '1',\n '1',\n '1',\n '1',\n '1',\n '1',\n '1',\n '1',\n '1',\n '1',\n '1',\n '1',\n '1',\n '1',\n '1',\n '1',\n '1',\n '1',\n '1',\n '1',\n '1',\n '1',\n '1',\n '1',\n '1',\n '1',\n '1',\n '1',\n '1',\n '1',\n '1',\n '1',\n '1',\n '1',\n '1',\n '1',\n '1',\n '1',\n '1',\n '1',\n '1',\n '1',\n '1',\n '1',\n '1',\n '1',\n '1',\n '1',\n '1',\n '1',\n '1',\n '1',\n '1',\n '1',\n '1',\n '1',\n '1',\n '1',\n '1',\n '1',\n '1',\n '1',\n '1',\n '1',\n '1',\n '1',\n '1',\n '1',\n '1',\n '1',\n '1',\n '1',\n '1',\n '1',\n '1',\n '1',\n '1',\n '1',\n '1',\n '1',\n '1',\n '1',\n '1',\n '1',\n '1',\n '1',\n '1',\n '1',\n '1',\n '1',\n '1',\n '1',\n '1',\n '1',\n '1',\n '1',\n '1',\n '1',\n '1',\n '1',\n '1',\n '1',\n '1',\n '1',\n '1',\n '1',\n '1',\n '1',\n '1',\n '1',\n '1',\n '1',\n '1',\n '1',\n '1',\n '1',\n '1',\n '1',\n '1',\n '1',\n '1',\n '1',\n '1',\n '1',\n '1',\n '1',\n '1',\n '1',\n '1',\n '1',\n '1',\n '10',\n '10',\n '10',\n '10',\n '10',\n '10',\n '10',\n '10',\n '10',\n '10',\n '10',\n '10',\n '10',\n '10',\n '10',\n '10',\n '10',\n '10',\n '10',\n '10',\n '10',\n '10',\n '10',\n '10',\n '10',\n '10',\n '10',\n '10',\n '10',\n '10',\n '10',\n '10',\n '10',\n '10',\n '10',\n '10',\n '10',\n '10',\n '10',\n '10',\n '10',\n '10',\n '10',\n '10',\n '10',\n '10',\n '10',\n '10',\n '10',\n '10',\n '10',\n '10',\n '10',\n '10',\n '10',\n '10',\n '10',\n '10',\n '10',\n '10',\n '10',\n '10',\n '10',\n '10',\n '100',\n '100',\n '100',\n '100',\n '100',\n '100',\n '100',\n '100',\n '100',\n '100',\n '1000417',\n '1000417',\n '10006',\n '100082',\n '100130',\n '100179',\n '1002',\n '1002',\n '1002859',\n '1002861',\n '1003269',\n '10035',\n '10035',\n '100406',\n '100406',\n '1004709',\n '10053186',\n '10054',\n '10055521',\n '1006',\n '100609',\n '10067',\n '1007',\n '1007',\n '1008',\n '1008012',\n '100805',\n '10088',\n '10093',\n '10097',\n '100994',\n '100997',\n '101',\n '101',\n '101',\n '101',\n '101',\n '1010',\n '1011',\n '10114',\n '101163',\n '10117',\n '1012',\n '1012',\n '1013',\n '1013465',\n '1013635',\n '1013867',\n '1013944',\n '101455',\n '1014822',\n '1014846',\n '1015',\n '1015',\n '10158',\n '10159',\n '10159',\n '1016',\n ...]"
     },
     "metadata": {}
    }
   ]
  },
  {
   "cell_type": "code",
   "metadata": {
    "id": "Z76gfuPjqXB-",
    "cell_id": "00012-f3c60b77-9464-4cfd-8012-2691360ac4ef",
    "deepnote_to_be_reexecuted": false,
    "source_hash": "5edba06d",
    "execution_start": 1638726014686,
    "execution_millis": 33,
    "deepnote_app_coordinates": {
     "x": 0,
     "y": 72,
     "w": 12,
     "h": 5
    },
    "deepnote_output_heights": [
     null,
     611
    ],
    "deepnote_cell_type": "code"
   },
   "source": "#CODE\nsizes = sorted(set(list(map(lambda x: (x['Size']), data))))\nsize_varies = list(filter(lambda x: x['Size'] == 'Varies with device',data)) #list of apps whose size varies according to device\n\ndef max_size():\n    max =0\n    for x in range(len(sizes)):\n        sizes[x] = sizes[x].replace('M','')\n        sizes[x] = sizes[x].replace('k','')\n        sizes[x] = sizes[x].replace('Varies with device','')\n    sizes.sort()\n    count = len(sizes) - 1\n    while count > 0:\n        if(sizes[count]!= 'Varies with device'):\n            max = sizes[count - 1]\n            count = -1\n        count = count - 1\n    return max \n\nprint(\"The game sizes range from\", min(sizes), \"to\", max_size(), \"and also has\", len(size_varies), \"games that vary with device.\")\nlist(sizes)",
   "execution_count": null,
   "outputs": [
    {
     "name": "stdout",
     "text": "The game sizes range from 1.0M to 992 and also has 1695 games that vary with device.\n",
     "output_type": "stream"
    },
    {
     "output_type": "execute_result",
     "execution_count": 8,
     "data": {
      "text/plain": "['',\n '1.0',\n '1.1',\n '1.2',\n '1.3',\n '1.4',\n '1.5',\n '1.6',\n '1.7',\n '1.8',\n '1.9',\n '10',\n '10.0',\n '100',\n '1020',\n '103',\n '108',\n '11',\n '11',\n '116',\n '118',\n '12',\n '121',\n '122',\n '13',\n '14',\n '14',\n '141',\n '143',\n '144',\n '15',\n '153',\n '154',\n '157',\n '16',\n '160',\n '161',\n '164',\n '169',\n '17',\n '17',\n '170',\n '172',\n '173',\n '175',\n '176',\n '18',\n '18',\n '186',\n '19',\n '190',\n '191',\n '192',\n '193',\n '196',\n '2.0',\n '2.1',\n '2.2',\n '2.3',\n '2.4',\n '2.5',\n '2.6',\n '2.7',\n '2.8',\n '2.9',\n '20',\n '20',\n '200',\n '201',\n '203',\n '206',\n '208',\n '209',\n '21',\n '210',\n '219',\n '22',\n '220',\n '221',\n '222',\n '226',\n '228',\n '23',\n '23',\n '232',\n '234',\n '237',\n '238',\n '239',\n '24',\n '24',\n '240',\n '241',\n '243',\n '245',\n '246',\n '25',\n '25',\n '251',\n '253',\n '257',\n '259',\n '26',\n '26',\n '266',\n '269',\n '27',\n '27',\n '270',\n '28',\n '28',\n '280',\n '283',\n '288',\n '29',\n '29',\n '292',\n '293',\n '3.0',\n '3.1',\n '3.2',\n '3.3',\n '3.4',\n '3.5',\n '3.6',\n '3.7',\n '3.8',\n '3.9',\n '30',\n '306',\n '308',\n '309',\n '31',\n '313',\n '314',\n '317',\n '318',\n '319',\n '32',\n '322',\n '323',\n '329',\n '33',\n '33',\n '334',\n '335',\n '34',\n '34',\n '35',\n '350',\n '351',\n '353',\n '36',\n '364',\n '37',\n '371',\n '373',\n '375',\n '376',\n '378',\n '38',\n '383',\n '387',\n '39',\n '39',\n '4.0',\n '4.1',\n '4.2',\n '4.3',\n '4.4',\n '4.5',\n '4.6',\n '4.7',\n '4.8',\n '4.9',\n '40',\n '400',\n '404',\n '41',\n '41',\n '411',\n '412',\n '414',\n '417',\n '42',\n '420',\n '421',\n '429',\n '43',\n '430',\n '437',\n '44',\n '44',\n '442',\n '444',\n '45',\n '45',\n '454',\n '458',\n '459',\n '46',\n '460',\n '467',\n '47',\n '470',\n '473',\n '475',\n '478',\n '48',\n '48',\n '485',\n '49',\n '496',\n '498',\n '499',\n '5.0',\n '5.1',\n '5.2',\n '5.3',\n '5.4',\n '5.5',\n '5.6',\n '5.7',\n '5.8',\n '5.9',\n '50',\n '50',\n '500',\n '506',\n '51',\n '51',\n '511',\n '514',\n '516',\n '518',\n '52',\n '523',\n '525',\n '526',\n '53',\n '54',\n '54',\n '540',\n '544',\n '545',\n '549',\n '55',\n '55',\n '551',\n '552',\n '554',\n '556',\n '56',\n '562',\n '569',\n '57',\n '58',\n '58',\n '582',\n '585',\n '59',\n '592',\n '597',\n '598',\n '6.0',\n '6.1',\n '6.2',\n '6.3',\n '6.4',\n '6.5',\n '6.6',\n '6.7',\n '6.8',\n '6.9',\n '60',\n '600',\n '601',\n '608',\n '609',\n '61',\n '61',\n '613',\n '619',\n '62',\n '624',\n '626',\n '629',\n '63',\n '636',\n '64',\n '642',\n '643',\n '647',\n '65',\n '655',\n '656',\n '658',\n '66',\n '663',\n '67',\n '67',\n '676',\n '68',\n '683',\n '688',\n '69',\n '691',\n '695',\n '696',\n '7.0',\n '7.1',\n '7.2',\n '7.3',\n '7.4',\n '7.5',\n '7.6',\n '7.7',\n '7.8',\n '7.9',\n '70',\n '70',\n '704',\n '705',\n '71',\n '713',\n '714',\n '716',\n '717',\n '72',\n '72',\n '720',\n '721',\n '728',\n '73',\n '73',\n '730',\n '74',\n '74',\n '743',\n '746',\n '749',\n '75',\n '754',\n '756',\n '76',\n '77',\n '772',\n '775',\n '778',\n '779',\n '78',\n '78',\n '780',\n '782',\n '784',\n '785',\n '787',\n '79',\n '79',\n '8.0',\n '8.1',\n '8.2',\n '8.3',\n '8.4',\n '8.5',\n '8.5',\n '8.6',\n '8.7',\n '8.8',\n '8.9',\n '80',\n '801',\n '809',\n '81',\n '81',\n '811',\n '812',\n '816',\n '818',\n '82',\n '82',\n '83',\n '837',\n '84',\n '840',\n '842',\n '847',\n '85',\n '853',\n '857',\n '86',\n '860',\n '861',\n '862',\n '865',\n '87',\n '872',\n '874',\n '879',\n '88',\n '881',\n '885',\n '887',\n '89',\n '89',\n '892',\n '898',\n '899',\n '9.0',\n '9.1',\n '9.2',\n '9.3',\n '9.4',\n '9.5',\n '9.6',\n '9.7',\n '9.8',\n '9.9',\n '90',\n '902',\n '903',\n '904',\n '91',\n '91',\n '913',\n '914',\n '916',\n '92',\n '920',\n '921',\n '924',\n '93',\n '93',\n '930',\n '939',\n '94',\n '940',\n '942',\n '948',\n '95',\n '951',\n '953',\n '954',\n '957',\n '96',\n '961',\n '963',\n '965',\n '97',\n '97',\n '970',\n '975',\n '976',\n '98',\n '980',\n '981',\n '982',\n '986',\n '99',\n '992',\n '994']"
     },
     "metadata": {}
    }
   ]
  },
  {
   "cell_type": "code",
   "metadata": {
    "id": "yxDpnMODqXJ4",
    "cell_id": "00013-74f34d28-1bb6-4235-9fde-040242a6d21c",
    "deepnote_to_be_reexecuted": false,
    "source_hash": "2dea894c",
    "execution_start": 1638726014731,
    "execution_millis": 18,
    "deepnote_app_coordinates": {
     "x": 0,
     "y": 78,
     "w": 12,
     "h": 5
    },
    "deepnote_cell_type": "code"
   },
   "source": "#CODE\ndata_install_copy = list(map(lambda x: (x['Installs']), data))\nprint(\"The number of user installs range from\",min(data_install_copy),\"to\", max(data_install_copy))\n",
   "execution_count": null,
   "outputs": [
    {
     "name": "stdout",
     "text": "The number of user installs range from 0 to 500,000,000+\n",
     "output_type": "stream"
    }
   ]
  },
  {
   "cell_type": "code",
   "metadata": {
    "tags": [],
    "cell_id": "00014-ce649f61-d63b-4488-9b4f-a91a8855f221",
    "deepnote_to_be_reexecuted": false,
    "source_hash": "77532851",
    "execution_start": 1638726014775,
    "execution_millis": 27,
    "deepnote_app_coordinates": {
     "x": 0,
     "y": 84,
     "w": 12,
     "h": 5
    },
    "deepnote_cell_type": "code"
   },
   "source": "data_type_copy = [row['Type'] for row in rows]\ntype_free = list(filter(lambda x: x['Type'] == 'Free', data)) #list of apps that are free\ntype_paid = list(filter(lambda x: x['Type'] == 'Paid', data)) #list of apps that are paid\n\nprint(\"There are\", len(type_free), \"free apps and\", len(type_paid), \"paid apps.\")",
   "execution_count": null,
   "outputs": [
    {
     "name": "stdout",
     "text": "There are 10039 free apps and 800 paid apps.\n",
     "output_type": "stream"
    }
   ]
  },
  {
   "cell_type": "code",
   "metadata": {
    "tags": [],
    "cell_id": "00015-ac0c1f6c-dd1e-4359-aa3f-4cad0ff6195a",
    "deepnote_to_be_reexecuted": false,
    "source_hash": "1c602508",
    "execution_start": 1638726014807,
    "execution_millis": 16,
    "deepnote_app_coordinates": {
     "x": 0,
     "y": 90,
     "w": 12,
     "h": 5
    },
    "deepnote_cell_type": "code"
   },
   "source": "#Range of prices\nprices = [row['Price'] for row in rows]\n\ndef max_price():\n    max_value = 0\n    for price in prices:\n        # Price without $\n        new_price = price.replace('$','')\n        float_price = float(new_price)\n        if float_price > max_value:\n            max_value = float_price\n    return max_value\n\nprint(\"Prices of apps range from\", min(prices), \"to $\", max_price())",
   "execution_count": null,
   "outputs": [
    {
     "name": "stdout",
     "text": "Prices of apps range from $0.99 to $ 400.0\n",
     "output_type": "stream"
    }
   ]
  },
  {
   "cell_type": "code",
   "metadata": {
    "tags": [],
    "cell_id": "00015-fe7478cf-2999-4218-a45d-e15b2a9da634",
    "deepnote_to_be_reexecuted": false,
    "source_hash": "d77955d1",
    "execution_start": 1638726014879,
    "execution_millis": 246,
    "deepnote_app_coordinates": {
     "x": 0,
     "y": 96,
     "w": 12,
     "h": 5
    },
    "deepnote_cell_type": "code"
   },
   "source": "data_content_rating_copy = [row['Content Rating'] for row in rows]\ncontent_rating = set(data_content_rating_copy) #content rating with duplicates removed\nprint(\"There are\", len(content_rating), \"content ratings:\", list(content_rating))",
   "execution_count": null,
   "outputs": [
    {
     "name": "stdout",
     "text": "There are 6 content ratings: ['Teen', 'Unrated', 'Mature 17+', 'Adults only 18+', 'Everyone 10+', 'Everyone']\n",
     "output_type": "stream"
    }
   ]
  },
  {
   "cell_type": "code",
   "metadata": {
    "tags": [],
    "cell_id": "00016-e78e2e66-e917-4da2-a5ec-cd194e862caa",
    "deepnote_to_be_reexecuted": false,
    "source_hash": "b35d8e34",
    "execution_start": 1638726014880,
    "execution_millis": 245,
    "deepnote_app_coordinates": {
     "x": 0,
     "y": 102,
     "w": 12,
     "h": 5
    },
    "deepnote_cell_type": "code"
   },
   "source": "data_genres_copy = [row['Genres'] for row in rows]\ngenres = set(data_genres_copy)\nprint(\"There are\", len(genres), \"genres:\", list(genres)) ",
   "execution_count": null,
   "outputs": [
    {
     "name": "stdout",
     "text": "There are 119 genres: ['Productivity', 'Action', 'Puzzle', 'Arcade;Action & Adventure', 'Health & Fitness;Education', 'Educational;Action & Adventure', 'Video Players & Editors;Music & Video', 'Education;Creativity', 'Entertainment;Brain Games', 'Maps & Navigation', 'Trivia;Education', 'Tools', 'Simulation;Action & Adventure', 'Adventure;Action & Adventure', 'Video Players & Editors;Creativity', 'Sports;Action & Adventure', 'Adventure', 'Board;Brain Games', 'Business', 'Puzzle;Education', 'Education;Education', 'Music', 'Casual;Brain Games', 'Tools;Education', 'Sports', 'Racing;Pretend Play', 'Word', 'Puzzle;Action & Adventure', 'Adventure;Brain Games', 'Arcade;Pretend Play', 'News & Magazines', 'Art & Design;Pretend Play', 'Health & Fitness;Action & Adventure', 'Lifestyle', 'Role Playing;Action & Adventure', 'Casual', 'Medical', 'Auto & Vehicles', 'Educational;Pretend Play', 'Racing;Action & Adventure', 'Entertainment;Action & Adventure', 'Communication;Creativity', 'Education;Pretend Play', 'Racing', 'Food & Drink', 'Entertainment;Pretend Play', 'Books & Reference;Education', 'Educational;Brain Games', 'Entertainment', 'Strategy;Creativity', 'Parenting;Brain Games', 'Trivia', 'Board;Pretend Play', 'Entertainment;Education', 'Simulation;Education', 'Lifestyle;Education', 'Educational;Education', 'House & Home', 'Lifestyle;Pretend Play', 'Role Playing;Education', 'Events', 'Strategy', 'Action;Action & Adventure', 'Puzzle;Brain Games', 'Card;Brain Games', 'Parenting', 'Entertainment;Creativity', 'Educational;Creativity', 'Comics;Creativity', 'Social', 'Strategy;Education', 'Board', 'Music & Audio;Music & Video', 'Casual;Education', 'Art & Design;Action & Adventure', 'Card;Action & Adventure', 'Education', 'Simulation', 'Education;Action & Adventure', 'Educational', 'Dating', 'Photography', 'Travel & Local;Action & Adventure', 'Communication', 'Strategy;Action & Adventure', 'Role Playing;Brain Games', 'Casual;Music & Video', 'Shopping', 'Adventure;Education', 'Books & Reference', 'Comics', 'Health & Fitness', 'Art & Design', 'Arcade', 'Travel & Local', 'Beauty', 'Casual;Pretend Play', 'Education;Music & Video', 'Libraries & Demo', 'Personalization', 'Role Playing', 'Music;Music & Video', 'Casual;Action & Adventure', 'Parenting;Music & Video', 'Weather', 'Casino', 'Role Playing;Pretend Play', 'Finance', 'Art & Design;Creativity', 'Simulation;Pretend Play', 'Card', 'Books & Reference;Creativity', 'Entertainment;Music & Video', 'Casual;Creativity', 'Puzzle;Creativity', 'Board;Action & Adventure', 'Parenting;Education', 'Video Players & Editors', 'Education;Brain Games']\n",
     "output_type": "stream"
    }
   ]
  },
  {
   "cell_type": "code",
   "metadata": {
    "tags": [],
    "cell_id": "00017-e26ec028-e8e9-40cf-8fd4-e9673503e877",
    "deepnote_to_be_reexecuted": false,
    "source_hash": "b623e53d",
    "execution_start": 1638726014949,
    "execution_millis": 3171159390,
    "deepnote_app_coordinates": {
     "x": 0,
     "y": 108,
     "w": 12,
     "h": 5
    },
    "deepnote_cell_type": "code"
   },
   "source": "",
   "execution_count": null,
   "outputs": []
  },
  {
   "cell_type": "markdown",
   "source": "\n# **Info:**\n #### Our proposal and motivation:\n - Why did we choose this dataset over others? \n  We chose this dataset over others because the dataset was most familiar to us. Our group was interested in the trends that with come with apps we see everyday. \n - Was there any other dataset we also found interesting?\n  We found a dataset about Covid19 in asian countries and initially found it interesting as we can apply and compare it to the situation here in Canada. \n \n - Data Analysis Questions for dataset\n   1. How does the number of installs change depending on the payment type of the app?\n   2. How does the content rating affect the number of installs of the app? Would there be more installs for apps rated \"Everyone\" since it is open for anyone to download?\n   3. Do certain genres have more paid apps vs free apps, such as education having lots of paid apps?\n   4. Does the app category have any correlation with the app size?\n   5. Does payment type correlate with good ratings? Are paid apps more likely to have good ratings then free apps?\n\n- What methods do we expect to apply when we process the data to answer these questions?\nWe would need to apply the knowledge we have been learning in the course such as working with Numpy. Numpy offers a variety of useful functions that make it easier to work with datasets. For example, we can turn the data into an array and perform univariate analysis. Then, we can observe the relationships between the different attributes in the dataset.\n - Do you see any potential for data science applications using this data?\n  There is a possiblity that this dataset can be used to examine the trends that the most successful applications follow. App creators can then use it as a reference to predict the outcome of their apps and observe what they lack. Ultimately, this information can be used as a guide to improve and make up for the flaws that may be overlooked when creating applications in the Android market.   ",
   "metadata": {
    "id": "Dx47kZmkuk4J",
    "cell_id": "00014-b8c0df92-4f29-42dc-b87e-aee989f9c34a",
    "deepnote_app_coordinates": {
     "x": 0,
     "y": 114,
     "w": 12,
     "h": 5
    },
    "deepnote_cell_type": "markdown"
   }
  },
  {
   "cell_type": "markdown",
   "source": "<a style='text-decoration:none;line-height:16px;display:flex;color:#5B5B62;padding:10px;justify-content:end;' href='https://deepnote.com?utm_source=created-in-deepnote-cell&projectId=0264070f-b165-4856-b142-ba0d75822d5e' target=\"_blank\">\n<img alt='Created in deepnote.com' style='display:inline;max-height:16px;margin:0px;margin-right:7.5px;' src='data:image/svg+xml;base64,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' > </img>\nCreated in <span style='font-weight:600;margin-left:4px;'>Deepnote</span></a>",
   "metadata": {
    "tags": [],
    "created_in_deepnote_cell": true,
    "deepnote_cell_type": "markdown"
   }
  }
 ],
 "nbformat": 4,
 "nbformat_minor": 0,
 "metadata": {
  "colab": {
   "name": "24-proposal.ipynb",
   "provenance": [],
   "collapsed_sections": []
  },
  "kernelspec": {
   "name": "python3",
   "display_name": "Python 3"
  },
  "language_info": {
   "name": "python"
  },
  "deepnote_notebook_id": "54e92068-1e95-433f-a9dd-54a0fa7e685f",
  "deepnote": {},
  "deepnote_execution_queue": [],
  "deepnote_app_layout": "article"
 }
}